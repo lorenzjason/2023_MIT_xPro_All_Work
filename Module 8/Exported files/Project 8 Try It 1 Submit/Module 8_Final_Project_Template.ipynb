{
 "cells": [
  {
   "cell_type": "markdown",
   "metadata": {},
   "source": [
    "# Final Project Template"
   ]
  },
  {
   "cell_type": "markdown",
   "metadata": {},
   "source": [
    "For the final project for this module, you are asked to use ETL together with the skills you have learned about Python and MySQL in the previous modules to understand spending patterns.\n",
    "\n",
    "This module's project is divided into two main parts: Extract-Transform-Load (ETL) and Analysis and Visualization.\n",
    "\n",
    "Your challenge in this project is to implement the steps suggested by Dr. Sanchez in his videos throughout the module and prove that you have a a clear understanding of each of them by being able to describe and justify them. You will also be tested on your ability to conduct your own analysis to understand spending patterns.\n",
    "\n",
    "Before you fill out the project outline template below, make sure you:\n",
    "\n",
    "- Read through the template completely to understand the instructions for the structure of the project.\n",
    "- Have a clear understanding of what to do to create a model that will return the results you want to find.\n",
    "- Use Markdown to edit the template.\n",
    "- Include any screenshots of your code (both Python and MySQL) and of your program windows (Excel, Terminal, VS Code, MySQL Workbench) to demonstrate your steps."
   ]
  },
  {
   "cell_type": "markdown",
   "metadata": {},
   "source": [
    "<div class=\"alert alert-block alert-success\">\n",
    "The purpose of this Jupyter Notebook is to give you a structure to follow when you are solving your problem and developing your model with Python. Make sure you follow it carefully. You can add more subsections if needed, but remember to fill out every section provided in the template.\n",
    "</div>"
   ]
  },
  {
   "cell_type": "markdown",
   "metadata": {},
   "source": [
    "<div class=\"alert alert-block alert-danger\">\n",
    "Delete all cells above, including this one, before submitting your final Notebook.\n",
    "</div>"
   ]
  },
  {
   "attachments": {},
   "cell_type": "markdown",
   "metadata": {},
   "source": [
    "# Title\n",
    "\n",
    "**Jason Lorenz**\n",
    "\n"
   ]
  },
  {
   "cell_type": "markdown",
   "metadata": {},
   "source": [
    "# Index\n",
    "\n",
    "- [Abstract](#Abstract)\n",
    "- [1. Introduction](#1.-Introduction)\n",
    "- [2. Extract-Transform-Load](#2.-Extract-Transform-Load)\n",
    "    - [2.1 The ETL Process](#2.1-The-ETL-Process)\n",
    "    - [2.2 Data Exploration](#2.2-Data-Exploration)\n",
    "    - [2.3 Data Preparation](#2.3-Data-Preparation)\n",
    "    - [2.4 Read the Data Using Python](#2.4-Reading-the-Data-Using-Python)\n",
    "         - [2.4.1 Reading Sample Data](#2.4.1-Reading-Sample-Data)\n",
    "         - [2.4.2 Reading the MRST Data](#2.4.2-Reading-the-MRST-Data)\n",
    "    - [2.5 Writing an Installation Script](#2.5-Writing-an-Installation-Script)\n",
    "- [3. Analysis and Visualization](#3.-Project-Description)\n",
    "    - [3.1 Running Queries in MySQL Workbech](#3.1-Running-Queries-in-MySQL-Workbech)\n",
    "    - [3.2 Running Queries From Python](#3.2-Running-Queries-From-Python)\n",
    "    - [3.3 Explore Trends](#3.3-Explore-Trends)\n",
    "    - [3.4 Explore Percentage Change](#3.4-Explore-Percentage-Change)\n",
    "    - [3.5 Explore Rolling Time Windows](#3.5-Explore-Rolling-Time-Windows)\n",
    "- [Conclusion](#Conclusion)\n",
    "- [References](#References)"
   ]
  },
  {
   "cell_type": "markdown",
   "metadata": {},
   "source": [
    "[Back to top](#Index)\n",
    "\n",
    "\n",
    "##  Abstract\n",
    "\n",
    "This is a brief description (150 words or less) of your analysis and the results of your model. Complete this portion of the template after you are done working on your project."
   ]
  },
  {
   "attachments": {},
   "cell_type": "markdown",
   "metadata": {},
   "source": [
    "[Back to top](#Index)\n",
    "\n",
    "\n",
    "## 1. Introduction\n",
    "\n",
    "Introduce your project using 300 words or less. Describe all the processes you followed to create your ETL, Analysis, and Visualization project. Start by summarizing the steps that you intend to perform and then elaborate on this section after you have completed your project.\n",
    "\n",
    "The Monthly Retail Trade Data (MRTS) set is a conglomeration of sales data across different bussiness types. The dataset is managed by the US Census Bureau and our set is from 1992-2021(present). To analyze the data, I needed to first extract the data into a format that I can use to clean it up and organize it. I chose to export as a CSV file and reshape the data from there. After looking at the original data, I decided to only use the non adjusted data because there are more business types represented and a total at the end to use for data validation after loading. I initially had a single data transformation before loading into SQL but instead discovered it would be easier to transform it again into a list format. \n",
    "\n"
   ]
  },
  {
   "cell_type": "markdown",
   "metadata": {},
   "source": [
    "[Back to top](#Index)\n",
    "\n",
    "## 2. Extract-Transform-Load\n",
    "\n",
    "For each of the sections below, include a description of the steps you followed. Whenever possible, include screenshots of your code or program windows to demonstrate your steps."
   ]
  },
  {
   "attachments": {},
   "cell_type": "markdown",
   "metadata": {},
   "source": [
    "[Back to top](#Index)\n",
    "\n",
    "### 2.1 The ETL Process\n",
    "\n",
    "EXTRACT: pull data from the source format into another format that the engineer is most comfortable viewing and sorting through.\n",
    "    \n",
    "    I would like to pull only the sales data from non adjusted columns and sort it by month of sales. I would like to remove the adjusted columns, total columns and the extraneous cells with text and key information.\n",
    "\n",
    "TRANSFORM: Reshape and transform the data to a more usable format for the engineer to manipulate it in the way they want. This is also a step where the database is \"cleaned up\" and any inconsistent, missing, or unstructured datapoints are removed or reformatted.\n",
    "    \n",
    "    I would like to first pull the data into rows with all sales data by sales type with the headers being the month and year. The row labels will be the NAICS Code and sales type. I will also replace text values and nulls with zeroes.\n",
    "    Edit: I was going to use this as my total transformation however when I tried to load into SQL it was difficult to do in few lines of code and more transformation. I decided to transform again by using the pd.melt() function to turn individual columns into rows. \n",
    "\n",
    "LOAD: the cleaned data is loaded into an environment that the engineer can work efficiently. A script that can take the old data, clean, and move it to the new database location all in one is the most efficient use of ETL processes. \n",
    "    \n",
    "    I was able to use the transformed data to easily add to SQL with the INSERT INTO SQL function."
   ]
  },
  {
   "attachments": {},
   "cell_type": "markdown",
   "metadata": {},
   "source": [
    "[Back to top](#Index)\n",
    "\n",
    "### 2.2 Data Exploration\n",
    "\n",
    "The MRTS data base is a conglomeration of sales data by sales type. It is managed by the US Census Beureau. The sales data is categorized by sales type and listed by month of the year. This data is valuable for analysts to predict sales trends and modify marketing etc. accordingly."
   ]
  },
  {
   "attachments": {},
   "cell_type": "markdown",
   "metadata": {},
   "source": [
    "[Back to top](#Index)\n",
    "\n",
    "### 2.3 Data Preparation\n",
    "\n",
    "To modify the database and get the data I wanted, I removed text values and limited my search to only non adjusted values. I also condensed my years from 2000 to 2020 because these years all contained the same number and type of sales. I removed the totals column and condensed every year into the same sheet and had a column for each month of each year. I removed the totals column because it is a calculated value and can easily be brought back when needed. "
   ]
  },
  {
   "attachments": {},
   "cell_type": "markdown",
   "metadata": {},
   "source": [
    "[Back to top](#Index)\n",
    "\n",
    "### 2.4 Read the Data Using Python\n",
    "\n",
    "I used the pandas toolset to import the data to a dataframe and manipulate from there. I exclusively used pandas for extracting, manipulating and transforming. the read_csv and pd.melt() functions were incredibly useful in this endeavor. "
   ]
  },
  {
   "attachments": {},
   "cell_type": "markdown",
   "metadata": {},
   "source": [
    "[Back to top](#Index)\n",
    "\n",
    "### 2.4.1 Reading Sample Data\n",
    "\n",
    "Describe the sample dataset that you have defined to test your Python script to read CSV files and explain how you used Python to read it.\n",
    "\n",
    "Instead of creating a sample data set, I just used the 2020 page of the actual data set to test my reads. Each year from 2000 to 2020 had the same format so if I can use the first sheet, it is easy to do the next 19. "
   ]
  },
  {
   "attachments": {},
   "cell_type": "markdown",
   "metadata": {},
   "source": [
    "[Back to top](#Index)\n",
    "\n",
    "### 2.4.2 Reading the MRTS Data\n",
    "\n",
    "First I imported the sheet with constraints of using a specific range of values that only grabbed the sales data. I assigned that data to a temporary dataframe and appended it to another for extraction with the correct row labels and headers (year month day). \n",
    "\n",
    "```\n",
    "import pandas as pd\n",
    "import numpy as np\n",
    "\n",
    "# Import tools \n",
    "\n",
    "# Create lists and dataframes needed\n",
    "data1 = pd.DataFrame() \n",
    "#dynamic dataframe in for loop\n",
    "headers = [] \n",
    "#dynamic list for headers in for loop\n",
    "years = np.arange(2000,2021) \n",
    "#year range for Excel sheet picking\n",
    "\n",
    "data = pd.DataFrame(pd.read_excel('/Users/jasonl/Desktop/Exported files/mrtssales92-present.xls', sheet_name = '2020', usecols = \"A:B\", skiprows = 6, nrows = 65, names = ['NAICS Number', 'Business Type'], header = None, ))\n",
    "# Grabbing all NAICS codes and Business types\n",
    "for i in years:\n",
    "    headers = [str(i)+'-01-01',str(i)+'-02-01',str(i)+'-03-01',str(i)+'-04-01',str(i)+'-05-01',str(i)+'-06-01',str(i)+'-07-01',str(i)+'-08-01',str(i)+'-09-01',str(i)+'-10-01',str(i)+'-11-01',str(i)+'-12-01']\n",
    "#creates header with year\n",
    "    data1 = pd.read_excel('/Users/jasonl/Desktop/Exported files/mrtssales92-present.xls', sheet_name = str(i), usecols = \"C:N\", skiprows = 6, nrows = 65, names = headers, header = None )\n",
    "    data1.replace(['(NA)', '(S)','(p)'],[0,0,0], inplace=True) \n",
    "    #grabs sales data and cleans up non numeric values\n",
    "    data = pd.concat([data, data1], axis = 1)\n",
    "    #adds sheet data to final data csv\n",
    "    i = i + 1\n",
    "datacsv = pd.melt(data, id_vars = ['NAICS Number', 'Business Type'], var_name= 'Year', value_name= 'Sales')\n",
    "datacsv.to_csv(r'/Users/jasonl/Desktop/Exported files/ExportedData.csv', sep = ',', index = False)\n",
    "\n"
   ]
  },
  {
   "attachments": {},
   "cell_type": "markdown",
   "metadata": {},
   "source": [
    "[Back to top](#Index)\n",
    "\n",
    "### 2.5 Writing an Installation Script\n",
    "\n",
    "\n",
    "This was an easy task because we had previously done something like this in another module. I first initiated the connection, created the database and table, and iterated each row into the dataset based on the portions I wanted to keep. \n",
    "\n",
    "```\n",
    "import mysql.connector\n",
    "import pandas as pd\n",
    "\n",
    "# Connect to my local SQL Server\n",
    "cnx = mysql.connector.connect(user='root',\n",
    "    password='sqlpassword',\n",
    "    host='Jasons-MacBook-Pro.local',\n",
    "    )\n",
    "\n",
    "# Creates SQL query cursor\n",
    "cursor = cnx.cursor()\n",
    "\n",
    "# create database & select it\n",
    "cursor.execute(\"DROP DATABASE IF EXISTS `MRTS_Data`;\")\n",
    "cursor.execute(\"CREATE DATABASE `MRTS_Data`;\")\n",
    "cursor.execute(\"USE `MRTS_Data`;\")\n",
    "\n",
    "# Making table\n",
    "table = \"\"\"CREATE TABLE `MRTS_Sale_Data` (\n",
    "    `NAICS_number` varchar (50) NULL,\n",
    "    `Business_type` varchar (255) NOT NULL,\n",
    "    `Year` date NOT NULL,\n",
    "    `Estimated_sales` float NOT NULL);\"\"\"\n",
    "\n",
    "cursor.execute(table)\n",
    "\n",
    "#Importing data for easy SQL migration with insert into fucntion\n",
    "datalist = []\n",
    "datalist = pd.read_csv('/Users/jasonl/Desktop/Exported files/ExportedData.csv', delimiter = ',')\n",
    "\n",
    "\n",
    "#Insert Rows to database\n",
    "for i,row in datalist.iterrows():\n",
    "    sql = \"INSERT INTO `MRTS_Sale_Data` VALUES (%s, %s, %s, %s)\"\n",
    "    cursor.execute(sql, tuple(row))\n",
    "\n",
    "#Commit changes\n",
    "cnx.commit()\n",
    "\n",
    "#Close connection\n",
    "cnx.close()"
   ]
  },
  {
   "cell_type": "markdown",
   "metadata": {},
   "source": [
    "\n",
    "[Back to top](#Index)\n",
    "\n",
    "## 3. Analysis and Visualization\n",
    "\n",
    "For each of the sections below, make sure you include a description of the steps you followed. Whenever possible, include screenshots of your code or program windows to demonstrate your steps.\n",
    "\n",
    "Here, describe the differences, advantages, and disadvantages of running *queries* against your dataset using the MySQL Workbench or a Python environment."
   ]
  },
  {
   "cell_type": "markdown",
   "metadata": {},
   "source": [
    "[Back to top](#Index)\n",
    "\n",
    "### 3.1 Running Queries in MySQL Workbech\n",
    "\n",
    "Describe which *queries* you ran against the MRTS dataset in MySQL Workbench to verify that everything worked as expected."
   ]
  },
  {
   "cell_type": "markdown",
   "metadata": {},
   "source": [
    "[Back to top](#Index)\n",
    "\n",
    "### 3.2 Running Queries From Python\n",
    "\n",
    "Describe how you tested the previous *queries* on the the MRTS dataset using a Python script and the Terminal window. "
   ]
  },
  {
   "cell_type": "markdown",
   "metadata": {},
   "source": [
    "[Back to top](#Index)\n",
    "\n",
    "### 3.3 Explore Trends\n",
    "\n",
    "Describe which *queries* you wrote the explore the differences in trends between various categories in your data.\n",
    "\n",
    "In your submission make sure to answer the following:\n",
    "\n",
    "- What is an economic trend and why is it considered an important measure to predict quantities, like spending patterns?\n",
    "- What is the trend of the retail and food services categories? Can this data be displayed clearly or do you need to adjust some parameters to reduce extraneous details and be able to visualize a clean trend?\n",
    "- When comparing businesses like bookstores, sporting goods stores, and hobbies, toys, and games stores, what is the highest trend of all of these options? Which one grew faster? Which one is higher? Is there a seasonal pattern? Were there any changes in 2020? Which is better, monthly or yearly? "
   ]
  },
  {
   "cell_type": "markdown",
   "metadata": {},
   "source": [
    "[Back to top](#Index)\n",
    "\n",
    "### 3.4 Explore Percentage Change\n",
    "\n",
    "Describe which *queries* you wrote to explore the differences in trends between various categories in your data.\n",
    "\n",
    "In your submission make sure to answer the following:\n",
    "\n",
    "- In economics, what is the percentage change and why is it considered an important measure to predict quantities like spending patterns?\n",
    "- Consider the women's clothing and men's clothing businesses and their percentage change. How are these two businesses related? For each of the two businesses, what is the percentage of contribution to the whole and how does it change over time?"
   ]
  },
  {
   "cell_type": "markdown",
   "metadata": {},
   "source": [
    "[Back to top](#Index)\n",
    "\n",
    "### 3.5 Explore Rolling Time Windows\n",
    "\n",
    "\n",
    "Describe which *queries* you wrote to explore the differences in trends between various categories in your data.\n",
    "\n",
    "In your submission, make sure to answer the following:\n",
    "\n",
    "- In economics, what is the rolling time window and why is it considered an important measure to predict quantities like spending patterns?\n",
    "- Consider at least two businesses of your own from the MRTS data. Which *queries* did you write to analyze and produce graphs of rolling time windows for the chosen categories?"
   ]
  },
  {
   "cell_type": "markdown",
   "metadata": {},
   "source": [
    "[Back to top](#Index)\n",
    "\n",
    "## Conclusion\n",
    "\n",
    "Describe your conclusions. Which one of the businesses considered seems like it's going to attract the least spending? Which business seems likely to attract the most spending? \n",
    "\n",
    "\n"
   ]
  },
  {
   "cell_type": "markdown",
   "metadata": {},
   "source": [
    "\n",
    "[Back to top](#Index\n",
    ")\n",
    "## References\n",
    "\n",
    "Add all references you used to complete this project.\n",
    "\n",
    "Use this format for articles:\n",
    "- Author Last Name, Author First Name. “Article Title.” Journal Title Volume #, no. Issue # (year): page range.\n",
    "\n",
    "- Ex: Doe, John. “Data Engineering.” Data Engineering Journal 18, no. 4 (2021): 12-18.\n",
    "\n",
    "Use this format for websites:\n",
    "- Author Last Name, Author First Name. “Title of Web Page.” Name of Website. Publishing organization, publication or revision date if available. Access date if no other date is available. URL .\n",
    "\n",
    "- Doe, John. “Data Engineering.” Data Engineer Resource. Cengage, 2021. www.dataengineerresource.com .\n"
   ]
  },
  {
   "cell_type": "code",
   "execution_count": null,
   "metadata": {},
   "outputs": [],
   "source": []
  }
 ],
 "metadata": {
  "kernelspec": {
   "display_name": "Python 3",
   "language": "python",
   "name": "python3"
  },
  "language_info": {
   "codemirror_mode": {
    "name": "ipython",
    "version": 3
   },
   "file_extension": ".py",
   "mimetype": "text/x-python",
   "name": "python",
   "nbconvert_exporter": "python",
   "pygments_lexer": "ipython3",
   "version": "3.11.0"
  },
  "vscode": {
   "interpreter": {
    "hash": "aee8b7b246df8f9039afb4144a1f6fd8d2ca17a180786b69acc140d282b71a49"
   }
  }
 },
 "nbformat": 4,
 "nbformat_minor": 4
}
