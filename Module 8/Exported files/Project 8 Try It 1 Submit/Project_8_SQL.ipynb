{
 "cells": [
  {
   "cell_type": "code",
   "execution_count": null,
   "metadata": {},
   "outputs": [],
   "source": [
    "import mysql.connector\n",
    "import pandas as pd\n",
    "import numpy as np\n",
    "\n",
    "# Connect to my local SQL Server\n",
    "cnx = mysql.connector.connect(user='root',\n",
    "    password='sqlpassword',\n",
    "    host='Jasons-MacBook-Pro.local',\n",
    "    )\n"
   ]
  },
  {
   "cell_type": "code",
   "execution_count": 7,
   "metadata": {},
   "outputs": [],
   "source": [
    "# Creates SQL query cursor\n",
    "cursor = cnx.cursor()\n",
    "\n",
    "# create database & select it\n",
    "cursor.execute(\"DROP DATABASE IF EXISTS `MRTS_Data`;\")\n",
    "cursor.execute(\"CREATE DATABASE `MRTS_Data`;\")\n",
    "cursor.execute(\"USE `MRTS_Data`;\")\n",
    "\n",
    "# Making table\n",
    "table = \"\"\"CREATE TABLE `MRTS_Sale_Data` (\n",
    "    `NAICS_number` varchar (50) NULL,\n",
    "    `Business_type` varchar (255) NOT NULL,\n",
    "    `Year` date NOT NULL,\n",
    "    `Estimated_sales` float NOT NULL);\"\"\"\n",
    "\n",
    "cursor.execute(table)"
   ]
  },
  {
   "cell_type": "code",
   "execution_count": 8,
   "metadata": {},
   "outputs": [],
   "source": [
    "#Importing data for easy SQL migration with insert into fucntion\n",
    "datalist = []\n",
    "datalist = pd.read_csv('/Users/jasonl/Desktop/Exported files/ExportedData.csv', delimiter = ',')\n",
    "\n",
    "\n",
    "#Insert Rows to database\n",
    "for i,row in datalist.iterrows():\n",
    "    sql = \"INSERT INTO `MRTS_Sale_Data` VALUES (%s, %s, %s, %s)\"\n",
    "    cursor.execute(sql, tuple(row))\n",
    "\n",
    "#Commit changes\n",
    "cnx.commit()\n",
    "\n",
    "#Close connection\n",
    "cnx.close()"
   ]
  },
  {
   "cell_type": "code",
   "execution_count": null,
   "metadata": {},
   "outputs": [],
   "source": []
  }
 ],
 "metadata": {
  "kernelspec": {
   "display_name": "base",
   "language": "python",
   "name": "python3"
  },
  "language_info": {
   "codemirror_mode": {
    "name": "ipython",
    "version": 3
   },
   "file_extension": ".py",
   "mimetype": "text/x-python",
   "name": "python",
   "nbconvert_exporter": "python",
   "pygments_lexer": "ipython3",
   "version": "3.9.13"
  },
  "orig_nbformat": 4,
  "vscode": {
   "interpreter": {
    "hash": "40d3a090f54c6569ab1632332b64b2c03c39dcf918b08424e98f38b5ae0af88f"
   }
  }
 },
 "nbformat": 4,
 "nbformat_minor": 2
}
