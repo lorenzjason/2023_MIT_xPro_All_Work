{
 "cells": [
  {
   "cell_type": "code",
   "execution_count": 2,
   "metadata": {},
   "outputs": [],
   "source": [
    "import pandas as pd\n",
    "import numpy as np\n",
    "\n",
    "# Import tools"
   ]
  },
  {
   "cell_type": "code",
   "execution_count": 8,
   "metadata": {},
   "outputs": [],
   "source": [
    "# Create lists and dataframes needed\n",
    "data1 = pd.DataFrame() \n",
    "#dynamic dataframe in for loop\n",
    "headers = [] \n",
    "#dynamic list for headers in for loop\n",
    "years = np.arange(2000,2021) \n",
    "#year range for Excel sheet picking\n",
    "\n",
    "data = pd.DataFrame(pd.read_excel('/Users/jasonl/Desktop/Exported files/mrtssales92-present.xls', sheet_name = '2020', usecols = \"A:B\", skiprows = 6, nrows = 65, names = ['NAICS Number', 'Business Type'], header = None, ))\n",
    "# Grabbing all NAICS codes and Business types\n",
    "for i in years:\n",
    "    headers = [str(i)+'-01-01',str(i)+'-02-01',str(i)+'-03-01',str(i)+'-04-01',str(i)+'-05-01',str(i)+'-06-01',str(i)+'-07-01',str(i)+'-08-01',str(i)+'-09-01',str(i)+'-10-01',str(i)+'-11-01',str(i)+'-12-01']\n",
    "#creates header with year\n",
    "    data1 = pd.read_excel('/Users/jasonl/Desktop/Exported files/mrtssales92-present.xls', sheet_name = str(i), usecols = \"C:N\", skiprows = 6, nrows = 65, names = headers, header = None )\n",
    "    data1.replace(['(NA)', '(S)','(p)'],[0,0,0], inplace=True) \n",
    "    #grabs sales data and cleans up non numeric values\n",
    "    data = pd.concat([data, data1], axis = 1)\n",
    "    #adds sheet data to final data csv\n",
    "    i = i + 1\n",
    "datacsv = pd.melt(data, id_vars = ['NAICS Number', 'Business Type'], var_name= 'Year', value_name= 'Sales')\n",
    "datacsv.to_csv(r'/Users/jasonl/Desktop/Exported files/ExportedData.csv', sep = ',', index = False) \n",
    "\n"
   ]
  },
  {
   "cell_type": "code",
   "execution_count": null,
   "metadata": {},
   "outputs": [],
   "source": []
  },
  {
   "cell_type": "code",
   "execution_count": null,
   "metadata": {},
   "outputs": [],
   "source": []
  }
 ],
 "metadata": {
  "kernelspec": {
   "display_name": "base",
   "language": "python",
   "name": "python3"
  },
  "language_info": {
   "codemirror_mode": {
    "name": "ipython",
    "version": 3
   },
   "file_extension": ".py",
   "mimetype": "text/x-python",
   "name": "python",
   "nbconvert_exporter": "python",
   "pygments_lexer": "ipython3",
   "version": "3.9.13"
  },
  "orig_nbformat": 4,
  "vscode": {
   "interpreter": {
    "hash": "40d3a090f54c6569ab1632332b64b2c03c39dcf918b08424e98f38b5ae0af88f"
   }
  }
 },
 "nbformat": 4,
 "nbformat_minor": 2
}
