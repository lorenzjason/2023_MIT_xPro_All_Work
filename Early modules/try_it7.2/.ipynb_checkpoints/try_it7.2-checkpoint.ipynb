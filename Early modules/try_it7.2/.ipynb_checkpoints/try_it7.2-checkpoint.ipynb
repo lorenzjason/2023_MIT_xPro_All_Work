{
 "cells": [
  {
   "cell_type": "markdown",
   "metadata": {},
   "source": [
    "# The Central Limit Theorem\n",
    "\n",
    "\n",
    "**IMPORTANT INSTRUCTIONS:** This activity is designed for you to experiment with Python code about samplig, variance, and mean. Feel free to change any numerical value throughout the code in the activity to visualize different outcomes and results."
   ]
  },
  {
   "cell_type": "markdown",
   "metadata": {},
   "source": [
    "## The Central Limit Theorem\n",
    "\n",
    "The central limit theorem (CLT) is an fundamental theorem of statistics that lays the foundations for undarstanding the results of *sampling*.\n",
    "\n",
    "\n",
    "### Formal Definition\n",
    "\n",
    "The central limit theorem (CLT) states that the distribution of a sample variable approximates a normal distribution  as the *sample* size becomes larger, assuming that all *samples* are identical in size and regardless of the population's actual distribution shape.\n",
    "\n",
    "In other words, according to the CLT, the mean of a *sample* of data will be closer to the mean of the overall population in question, as the *sample* size increases.\n",
    "\n",
    "### Key Terms \n",
    "\n",
    "Imagine performing a *trial*  and getting an *observation*. Next, imagine repeating the *trial* again and get a new independent *observation*. Collected together, multiple *observations* represents a *sample* of *observations*.\n",
    "\n",
    "As you know, a sample is a group of *observations* from a broader *population*.\n",
    "\n",
    "Let's first understand the differences between the words *observation*, *sample*, and *population*:\n",
    "\n",
    "- *Observation*: is the result from one *trial* of an experiment.\n",
    "- *Sample*: is the roup of results gathered from separate independent *trials*.\n",
    "- *Population*: Is the space of all possible observations that could be seen from a trial.\n",
    "\n",
    "The mean of a *sample* won't be exactly the same mean of the *population* distribution: like any estimate, it will be wrong and will contain some error. However, if you draw multiple independent *samples* and calculate their means, the distribution of those means will form a Gaussian distribution.\n",
    "\n",
    "### Key Takeaways\n",
    "\n",
    "Without going too depp into the mathematical details of the CLT, here are some fundamental takeways from it:\n",
    "\n",
    "\n",
    "- The CLT states that the distribution of *sample* means approximates a normal distribution as the sample size gets larger, regardless of the *population*'s distribution.\n",
    "- Sample sizes equal to or greater than **30** are often considered sufficient for the CLT to hold.\n",
    "- The average of the means and standard deviations of the *sample* will equal the mean and standard deviation of the *population*.\n"
   ]
  },
  {
   "cell_type": "markdown",
   "metadata": {},
   "source": [
    "## Uniform Distribution\n",
    "\n",
    "For this example, assume that you are rolling a fair six-faced die. \n",
    "\n",
    "As you already know, the distribution of the numbers that turn up from a dice roll is uniform.\n",
    "\n",
    "Assume that we roll the die  50 times.\n",
    "\n",
    "Theoretically, the mean of the experiment is given by:\n",
    "\n",
    "$$\\mu_x = \\frac{\\sum X}{N} =\\frac{1+2+3+4+5+6}{6} = 3.5$$"
   ]
  },
  {
   "cell_type": "markdown",
   "metadata": {},
   "source": [
    " In the code cell below, we use Python to generate the sample of 50 die rolls and the mean value of the sample."
   ]
  },
  {
   "cell_type": "code",
   "execution_count": null,
   "metadata": {},
   "outputs": [],
   "source": [
    "from numpy.random import seed\n",
    "from numpy.random import randint\n",
    "from numpy import mean\n",
    "\n",
    "# seed the random number generator for reproducibility\n",
    "seed(1)\n",
    "\n",
    "# generate a sample of die rolls\n",
    "rolls = randint(1, 7, 50)\n",
    "print(rolls)\n",
    "print(mean(rolls))\n"
   ]
  },
  {
   "cell_type": "markdown",
   "metadata": {},
   "source": [
    "We can see, that our *sample* mean is not exactly the same as the theoretical one. \n",
    "\n",
    "Can you guess why? What happens to the *sample* mean if you increase the number of trials?"
   ]
  },
  {
   "cell_type": "markdown",
   "metadata": {},
   "source": [
    "**DOUBLE CLICK HERE TO TYPE YOUR SOLUTION**\n",
    "\n",
    "\n"
   ]
  },
  {
   "cell_type": "markdown",
   "metadata": {},
   "source": [
    "Next, let's try to repeat the processs multiple times, such as 100. This will give us a result of 100 sample means.\n",
    "\n",
    "Run the code cell below:"
   ]
  },
  {
   "cell_type": "code",
   "execution_count": null,
   "metadata": {},
   "outputs": [],
   "source": [
    "# calculate the mean of 50 dice rolls 100 times\n",
    "means = [mean(randint(1, 7, 50)) for i in range(100)]"
   ]
  },
  {
   "cell_type": "markdown",
   "metadata": {},
   "source": [
    "Finally, we can use Matplotlib to the distribution of these sample means."
   ]
  },
  {
   "cell_type": "code",
   "execution_count": null,
   "metadata": {},
   "outputs": [],
   "source": [
    "import matplotlib.pyplot as plt\n",
    "# plot the distribution of sample means\n",
    "plt.hist(means)\n",
    "plt.show()"
   ]
  },
  {
   "cell_type": "markdown",
   "metadata": {},
   "source": [
    "You notice that the distributions doesn't really resemble a Gaussian.\n",
    "\n",
    "How can you improve the result? What happens if you increase the number of *trials*?"
   ]
  },
  {
   "cell_type": "markdown",
   "metadata": {},
   "source": [
    "**DOUBLE CLICK HERE TO TYPE YOUR SOLUTION**\n",
    "\n",
    "\n"
   ]
  },
  {
   "cell_type": "markdown",
   "metadata": {},
   "source": [
    "The image below, displays the sample mean distribution when we repeat the experiment 10,000 times.\n",
    "\n",
    "<img src=\"clt.png\" alt=\"Drawing\" style=\"width: 400px;\"/>"
   ]
  },
  {
   "cell_type": "markdown",
   "metadata": {},
   "source": [
    "You notice that, as we increase the number of experiments, the underlying distribution  of the sample means resemblea ans Guassian with mean equal to 3.5 in accordance with the CLT."
   ]
  },
  {
   "cell_type": "markdown",
   "metadata": {},
   "source": [
    "## Exponential Distribution\n",
    "\n",
    "As you know, the exponential distribution is a continuous distribution that is often used to model the expected time one needs to wait before the occurrence of an event.\n",
    "\n",
    "As a remainder, the exponential distribution is defined as:\n",
    "\n",
    "$$f(x) = \\begin{cases} \n",
    "      \\lambda e^{-\\lambda x} \\text{  if  } x >0 \\\\\n",
    "      0 \\text{  otherwise.}\n",
    "   \\end{cases}\n",
    "$$\n",
    "\n",
    "Additionally, the mean, $\\mu_x$, and the standard deviation, $\\sigma^2$, of an exponential disribution are given by:\n",
    "\n",
    "$$\\mu_x = \\sigma^2 = \\frac{1}{\\lambda}.$$\n",
    "\n",
    "\n",
    "Suppose we are dealing with a population which is exponentially distributed defined by the parameter $\\lambda = 0.25$. The mean and the stardard deviation for this case are given by:"
   ]
  },
  {
   "cell_type": "code",
   "execution_count": null,
   "metadata": {},
   "outputs": [],
   "source": [
    "# rate parameter for the exponentially distributed population\n",
    "rate = 0.25\n",
    "\n",
    "# population mean\n",
    "mu = 1/rate\n",
    "\n",
    "# population standard deviation\n",
    "sd = np.sqrt(1/(rate**2))\n",
    "\n",
    "print('Population mean:', mu)\n",
    "print('Population standard deviation:', sd)"
   ]
  },
  {
   "cell_type": "markdown",
   "metadata": {},
   "source": [
    "Now we want to see how the sampling distribution looks for this population. We will consider two cases, i.e. with a small sample size (n= 2), and a large sample size (n=500).\n",
    "\n",
    "First, we will draw 50 random samples from our population of size 2 each. The code to do the same in Python is given below:"
   ]
  },
  {
   "cell_type": "code",
   "execution_count": null,
   "metadata": {},
   "outputs": [],
   "source": [
    "import pandas as pd\n",
    "import numpy as np\n",
    "\n",
    "# drawing 50 random samples of size 2 from the exponentially distributed population\n",
    "sample_size = 2\n",
    "#generating an empty dataframe\n",
    "df2 = pd.DataFrame(index= ['x1', 'x2'] )\n",
    "\n",
    "#filling the dataframe with exponentially distributed points\n",
    "for i in range(1, 51):\n",
    "    exponential_sample = np.random.exponential((1/rate), sample_size)\n",
    "    col = f'sample {i}'\n",
    "    df2[col] = exponential_sample\n",
    "\n",
    "df2"
   ]
  },
  {
   "cell_type": "markdown",
   "metadata": {},
   "source": [
    "For each of the 50 *samples*, we can calculate the *sample* mean and plot its distribution using Seaborn as follows:"
   ]
  },
  {
   "cell_type": "code",
   "execution_count": null,
   "metadata": {},
   "outputs": [],
   "source": [
    "import seaborn as sns\n",
    "# calculating sample means and plotting their distribution\n",
    "df2_sample_means = df2.mean()\n",
    "sns.distplot(df2_sample_means);"
   ]
  },
  {
   "cell_type": "markdown",
   "metadata": {},
   "source": [
    "You can observe that even for a small *sample* size such as two, the distribution of *sample* means looks like a poor approximation of a normal distribution, with some left skew. This is due to the fact that the *sample* size is too small (2) and this size is not large enough for the CLT to hold.\n",
    "\n",
    "\n",
    "What happens if try to repeat the above process, but with a much larger *sample* size?\n",
    "\n",
    "In the code cell below, fill in the ellipsis to set the *sample* size equal to 500."
   ]
  },
  {
   "cell_type": "code",
   "execution_count": null,
   "metadata": {},
   "outputs": [],
   "source": [
    "# drawing 50 random samples of size 500\n",
    "sample_size=...\n",
    "\n",
    "df500 = pd.DataFrame()\n",
    "\n",
    "for i in range(1, 51):\n",
    "    exponential_sample = np.random.exponential((1/rate), sample_size)\n",
    "    col = f'sample {i}'\n",
    "    df500[col] = exponential_sample\n",
    "\n",
    "\n",
    "df500_sample_means = pd.DataFrame(df500.mean(),columns=['Sample means'])\n",
    "sns.distplot(df500_sample_means);"
   ]
  },
  {
   "cell_type": "markdown",
   "metadata": {},
   "source": [
    "After running the experiment with a *sample* size equal to 500, you should see a distribution similar to the one below:\n",
    "\n",
    "<img src=\"exp.png\" alt=\"Drawing\" style=\"width: 400px;\"/>\n",
    "\n",
    "\n",
    "You notice that the *sampling* distribution looks much more like a normal distribution now as we have sampled with a much larger sample size (n=500). You can also observe that the mean of the *sampling* distribution is close to the theoretical one that we computed above."
   ]
  },
  {
   "cell_type": "code",
   "execution_count": null,
   "metadata": {},
   "outputs": [],
   "source": []
  }
 ],
 "metadata": {
  "kernelspec": {
   "display_name": "Python 3",
   "language": "python",
   "name": "python3"
  },
  "language_info": {
   "codemirror_mode": {
    "name": "ipython",
    "version": 3
   },
   "file_extension": ".py",
   "mimetype": "text/x-python",
   "name": "python",
   "nbconvert_exporter": "python",
   "pygments_lexer": "ipython3",
   "version": "3.7.3"
  }
 },
 "nbformat": 4,
 "nbformat_minor": 4
}
